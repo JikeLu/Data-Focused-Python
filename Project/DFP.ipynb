{
 "cells": [
  {
   "cell_type": "code",
   "execution_count": 5,
   "metadata": {
    "id": "28YRuHme4PW9"
   },
   "outputs": [],
   "source": [
    "import pandas as pd\n",
    "import requests\n",
    "import json\n",
    "from bs4 import BeautifulSoup\n",
    "import pandas as pd"
   ]
  },
  {
   "cell_type": "markdown",
   "metadata": {
    "id": "TvpcpxYkMAvm"
   },
   "source": [
    "# **Download stocks and popular assets data from yahoo finance API**"
   ]
  },
  {
   "cell_type": "code",
   "execution_count": 6,
   "metadata": {
    "id": "hRf9KJ1G4cjR"
   },
   "outputs": [],
   "source": [
    "popular_assets = [\n",
    "    'AAPL', 'MSFT', 'AMZN', 'META', 'GOOGL', 'GOOG', 'BRK-B', 'JNJ', 'V', 'PG',\n",
    "    'JPM', 'UNH', 'MA', 'INTC', 'VZ', 'HD', 'T', 'DIS', 'MRK', 'PFE',\n",
    "    'BAC', 'PEP', 'KO', 'NVS', 'XOM', 'CSCO', 'CMCSA', 'ORCL', 'ABBV', 'ACN',\n",
    "    'TMO', 'AVGO', 'CVX', 'GILD', 'NKE', 'LLY', 'COST', 'DHR', 'MDT', 'NEE',\n",
    "    'MCD', 'TXN', 'QCOM', 'TMUS', 'HON', 'UNP', 'BMY', 'LIN', 'WMT', 'ADBE',\n",
    "    'AMGN', 'NFLX', 'SBUX', 'ABT', 'AEP', 'PYPL', 'IBM', 'AMD', 'LMT', 'BA',\n",
    "    'C', 'BLK', 'FIS', 'AMT', 'GE', 'TSLA', 'NVDA', 'CHTR', 'CAT', 'UPS',\n",
    "    'MMM', 'GS', 'RTX', 'DE', 'AXP', 'SPGI', 'MO', 'NOW', 'SCHW', 'ISRG',\n",
    "    'ZTS', 'CB', 'GPN', 'TGT', 'BDX', 'CI', 'SYK', 'SO', 'MDLZ', 'MU',\n",
    "    'PNC', 'NSC', 'CL', 'CSX', 'D', 'EL', 'ADI', 'FI', 'ANTM.JK', 'PLD',\n",
    "    'GOLD', 'AG',\n",
    "    'SPY', 'IVV', 'VTI', 'QQQ', 'GLD', 'EFA', 'IEFA', 'VWO', 'VGT', 'XLF',\n",
    "    'FCNTX', 'VFINX', 'VGTSX', 'PRGFX', 'VTSAX',\n",
    "    'GC=F', 'SI=F', 'CL=F', 'NG=F',\n",
    "    'EURUSD=X', 'JPY=X', 'GBPUSD=X', 'AUDUSD=X', 'USDCAD=X',\n",
    "    'TLT', 'IEF', 'SHY', 'BND', 'AGG',\n",
    "    'VNQ', 'IYR', 'SCHH', 'RWO',\n",
    "    'BTC-USD', 'ETH-USD', 'EURJPY=X', 'USO','^GSPC'\n",
    "\n",
    "]"
   ]
  },
  {
   "cell_type": "code",
   "execution_count": 7,
   "metadata": {
    "id": "5s10_us_OKfu"
   },
   "outputs": [],
   "source": [
    "asset_descriptions = {\n",
    "    'AAPL': 'Apple Inc. - A leading technology company known for its smartphones, computers, and software.',\n",
    "    'MSFT': 'Microsoft Corporation - A multinational technology company producing software, electronics, and personal computers.',\n",
    "    'AMZN': 'Amazon.com, Inc. - An e-commerce and cloud computing company.',\n",
    "    'META': 'Meta Platforms, Inc. (formerly Facebook, Inc.) - A social media and technology company.',\n",
    "    'GOOGL': 'Alphabet Inc. (Class A) - The parent company of Google, focusing on internet services and technology.',\n",
    "    'GOOG': 'Alphabet Inc. (Class C) - The parent company of Google, with no voting rights unlike GOOGL.',\n",
    "    'BRK-B': 'Berkshire Hathaway Inc. (Class B) - A multinational conglomerate holding company led by Warren Buffett.',\n",
    "    'JNJ': 'Johnson & Johnson - A multinational corporation that develops medical devices, pharmaceuticals, and consumer packaged goods.',\n",
    "    'V': 'Visa Inc. - A multinational financial services corporation facilitating electronic funds transfers.',\n",
    "    'PG': 'Procter & Gamble Co. - A multinational consumer goods corporation.',\n",
    "    'JPM': 'JPMorgan Chase & Co. - A multinational investment bank and financial services company.',\n",
    "    'UNH': 'UnitedHealth Group Incorporated - A diversified healthcare company offering health care products and insurance services.',\n",
    "    'MA': 'Mastercard Incorporated - A multinational financial services corporation facilitating electronic funds transfers.',\n",
    "    'INTC': 'Intel Corporation - A multinational corporation and technology company, one of the world\\'s largest semiconductor chip manufacturers.',\n",
    "    'VZ': 'Verizon Communications Inc. - A multinational telecommunications company.',\n",
    "    'HD': 'The Home Depot, Inc. - The largest home improvement retailer in the United States.',\n",
    "    'T': 'AT&T Inc. - An American multinational conglomerate holding company and telecommunications giant.',\n",
    "    'DIS': 'The Walt Disney Company - A diversified multinational mass media and entertainment conglomerate.',\n",
    "    'MRK': 'Merck & Co., Inc. - A leading global pharmaceutical company.',\n",
    "    'PFE': 'Pfizer Inc. - An American multinational pharmaceutical corporation.',\n",
    "    'BAC': 'Bank of America Corporation - An American multinational investment bank and financial services company.',\n",
    "    'PEP': 'PepsiCo, Inc. - An American multinational food, snack, and beverage corporation.',\n",
    "    'KO': 'The Coca-Cola Company - An American multinational beverage corporation.',\n",
    "    'NVS': 'Novartis AG - A Swiss multinational pharmaceutical corporation.',\n",
    "    'XOM': 'Exxon Mobil Corporation - An American multinational oil and gas corporation.',\n",
    "    'CSCO': 'Cisco Systems, Inc. - An American multinational technology conglomerate.',\n",
    "    'CMCSA': 'Comcast Corporation - An American telecommunications conglomerate.',\n",
    "    'ORCL': 'Oracle Corporation - An American multinational computer technology corporation.',\n",
    "    'ABBV': 'AbbVie Inc. - An American publicly traded biopharmaceutical company.',\n",
    "    'ACN': 'Accenture plc - A multinational professional services company specializing in IT services and consulting.',\n",
    "    'TMO': 'Thermo Fisher Scientific Inc. - An American provisioner of scientific instrumentation, reagents and consumables, and software services.',\n",
    "    'AVGO': 'Broadcom Inc. - An American designer, developer, manufacturer and global supplier of a wide range of semiconductor and infrastructure software products.',\n",
    "    'CVX': 'Chevron Corporation - An American multinational energy corporation.',\n",
    "    'GILD': 'Gilead Sciences, Inc. - An American biopharmaceutical company that researches, develops, and commercializes drugs.',\n",
    "    'NKE': 'NIKE, Inc. - An American multinational corporation engaged in the design, development, manufacturing, and worldwide marketing and sales of footwear, apparel, equipment, accessories, and services.',\n",
    "    'LLY': 'Eli Lilly and Company - An American pharmaceutical company.',\n",
    "    'COST': 'Costco Wholesale Corporation - An American multinational corporation which operates a chain of membership-only warehouse clubs.',\n",
    "    'DHR': 'Danaher Corporation - An American globally diversified conglomerate with its headquarters in Washington, D.C.',\n",
    "    'MDT': 'Medtronic plc - A medical device company that generates the majority of its sales and profits from the U.S. healthcare system but is headquartered in the Republic of Ireland for tax purposes.',\n",
    "    'NEE': 'NextEra Energy, Inc. - An American energy company with about 58 GW of generating capacity, revenues of over $17 billion, and about 14,000 employees throughout the US and Canada.',\n",
    "    'MCD': 'McDonald\\'s Corporation - An American fast food company.',\n",
    "    'TXN': 'Texas Instruments Incorporated - An American technology company that designs and manufactures semiconductors and various integrated circuits.',\n",
    "    'QCOM': 'Qualcomm Incorporated - An American multinational corporation that creates intellectual property, semiconductors, software, and services related to wireless technology.',\n",
    "    'TMUS': 'T-Mobile US, Inc. - An American wireless network operator.',\n",
    "    'HON': 'Honeywell International Inc. - An American publicly traded, multinational conglomerate corporation.',\n",
    "    'UNP': 'Union Pacific Corporation - An American publicly traded, multinational conglomerate corporation.',\n",
    "    'BMY': 'Bristol-Myers Squibb Company - An American pharmaceutical company.',\n",
    "    'LIN': 'Linde plc - A multinational chemical company.',\n",
    "    'WMT': 'Walmart Inc. - An American multinational retail corporation that operates a chain of hypermarkets, discount department stores, and grocery stores.',\n",
    "    'ADBE': 'Adobe Inc. - An American multinational computer software company.',\n",
    "    'AMGN': 'Amgen Inc. - An American multinational biopharmaceutical company.',\n",
    "    'NFLX': 'Netflix, Inc. - An American technology and media services provider and production company.',\n",
    "    'SBUX': 'Starbucks Corporation - An American multinational chain of coffeehouses and roastery reserves.',\n",
    "    'ABT': 'Abbott Laboratories - An American multinational medical devices and health care company.',\n",
    "    'AEP': 'American Electric Power Company, Inc. - An American electric utility holding company.',\n",
    "    'PYPL': 'PayPal Holdings, Inc. - An American company operating an online payments system.',\n",
    "    'IBM': 'International Business Machines Corporation - An American multinational technology company.',\n",
    "    'AMD': 'Advanced Micro Devices, Inc. - An American multinational semiconductor company.',\n",
    "    'LMT': 'Lockheed Martin Corporation - An American aerospace, defense, arms, security, and advanced technologies company.',\n",
    "    'BA': 'The Boeing Company - An American multinational corporation that designs, manufactures, and sells airplanes, rotorcraft, rockets, satellites, telecommunications equipment, and missiles worldwide.',\n",
    "    'C': 'Citigroup Inc. - An American multinational investment bank and financial services corporation.',\n",
    "    'BLK': 'BlackRock, Inc. - An American multinational investment management corporation.',\n",
    "    'FIS': 'Fidelity National Information Services, Inc. - An American multinational financial services technology company.',\n",
    "    'AMT': 'American Tower Corporation - An American real estate investment trust and an owner and operator of wireless and broadcast communications infrastructure.',\n",
    "    'GE': 'General Electric Company - An American multinational conglomerate.',\n",
    "    'TSLA': 'Tesla, Inc. - An American electric vehicle and clean energy company.',\n",
    "    'NVDA': 'NVIDIA Corporation - An American multinational technology company incorporated in Delaware and based in Santa Clara, California.',\n",
    "    'CHTR': 'Charter Communications, Inc. - An American telecommunications and mass media company.',\n",
    "    'CAT': 'Caterpillar Inc. - An American Fortune 100 corporation which designs, develops, engineers, manufactures, markets, and sells machinery, engines, financial products, and insurance.',\n",
    "    'UPS': 'United Parcel Service, Inc. - An American multinational package delivery and supply chain management company.',\n",
    "    'MMM': '3M Company - An American multinational conglomerate corporation.',\n",
    "    'GS': 'The Goldman Sachs Group, Inc. - An American multinational investment bank and financial services company.',\n",
    "    'RTX': 'Raytheon Technologies Corporation - An American multinational aerospace and defense conglomerate.',\n",
    "    'DE': 'Deere & Company - An American corporation that manufactures agricultural, construction, and forestry machinery, diesel engines, drivetrains (axles, transmissions, gearboxes) used in heavy equipment, and lawn care equipment.',\n",
    "    'AXP': 'American Express Company - An American multinational corporation specializing in payment card services.',\n",
    "    'SPGI': 'S&P Global Inc. - An American publicly traded corporation headquartered in Manhattan, New York City.',\n",
    "    'MO': 'Altria Group, Inc. - An American corporation and one of the world\\'s largest producers and marketers of tobacco, cigarettes, and related products.',\n",
    "    'NOW': 'ServiceNow, Inc. - An American software company based in Santa Clara, California.',\n",
    "    'SCHW': 'The Charles Schwab Corporation - An American multinational financial services company.',\n",
    "    'ISRG': 'Intuitive Surgical, Inc. - An American corporation that develops, manufactures, and markets robotic products designed to improve clinical outcomes of patients through minimally invasive surgery.',\n",
    "    'ZTS': 'Zoetis Inc. - An American drug company, the world\\'s largest producer of medicine and vaccinations for pets and livestock.',\n",
    "    'CB': 'Chubb Limited - A global provider of insurance products covering property and casualty, accident and health, reinsurance, and life insurance.',\n",
    "    'GPN': 'Global Payments Inc. - An American company providing financial technology services globally.','TGT': 'Target Corporation - A large retail corporation known for its discount stores.',\n",
    "    'BDX': 'Becton, Dickinson and Company - A medical technology company manufacturing medical devices, instrument systems, and reagents.',\n",
    "    'CI': 'Cigna Corporation - A global health service company offering health, pharmacy, and insurance products and services.',\n",
    "    'SYK': 'Stryker Corporation - A company specializing in medical devices, equipment, and software.',\n",
    "    'SO': 'Southern Company - An American gas and electric utility holding company.',\n",
    "    'MDLZ': 'Mondelez International, Inc. - A multinational confectionery, food, and beverage company.',\n",
    "    'MU': 'Micron Technology, Inc. - A producer of computer memory and computer data storage.',\n",
    "    'PNC': 'PNC Financial Services Group, Inc. - A bank holding company and financial services corporation.',\n",
    "    'NSC': 'Norfolk Southern Corporation - A major American railroad transportation company.',\n",
    "    'CL': 'Colgate-Palmolive Company - A consumer products company focused on the production, distribution, and provision of household, health care, and personal care products.',\n",
    "    'CSX': 'CSX Corporation - An international transportation company offering a variety of rail, container-shipping, intermodal, trucking, and contract logistics services.',\n",
    "    'D': 'Dominion Energy, Inc. - An American power and energy company supplying electricity in parts of Virginia, North Carolina, and South Carolina.',\n",
    "    'EL': 'Estée Lauder Companies Inc. - A multinational manufacturer and marketer of prestige skincare, makeup, fragrance, and hair care products.',\n",
    "    'ADI': 'Analog Devices, Inc. - A semiconductor company specializing in data conversion, signal processing, and power management technology.',\n",
    "    'FI': 'Frank\\'s International N.V. - A global oil services company that provides a broad range of highly engineered drilling and completions solutions.',\n",
    "    'ANTM.JK': 'Antam (Aneka Tambang) - An Indonesian mining company involved in the exploration, mining, processing, and marketing of nickel ore, ferronickel, gold, silver, bauxite, and coal.',\n",
    "    'PLD': 'Prologis, Inc. - A real estate investment trust that invests in logistics facilities.',\n",
    "    'GOLD': 'Barrick Gold Corporation - One of the largest gold mining companies in the world.',\n",
    "    'AG': 'First Majestic Silver Corp. - A mining company focused on silver production in Mexico.',\n",
    "\n",
    "    'SPY': 'SPDR S&P 500 ETF Trust - An ETF that tracks the S&P 500 stock market index.',\n",
    "    'IVV': 'iShares Core S&P 500 ETF - An ETF that tracks the performance of the S&P 500 index.',\n",
    "    'VTI': 'Vanguard Total Stock Market ETF - An ETF that tracks the performance of the CRSP US Total Market Index.',\n",
    "    'QQQ': 'Invesco QQQ Trust - An ETF based on the Nasdaq-100 Index.',\n",
    "    'GLD': 'SPDR Gold Trust - An ETF that tracks the gold market.',\n",
    "    'EFA': 'iShares MSCI EAFE ETF - An ETF that tracks large and mid-cap equity performance in developed markets, excluding the U.S. and Canada.',\n",
    "    'IEFA': 'iShares Core MSCI EAFE ETF - An ETF providing exposure to a broad range of companies in Europe, Australia, Asia, and the Far East.',\n",
    "    'VWO': 'Vanguard FTSE Emerging Markets ETF - An ETF that tracks the return of the FTSE Emerging Markets All Cap China A Inclusion Index.',\n",
    "    'VGT': 'Vanguard Information Technology ETF - An ETF that tracks the performance of the MSCI US Investable Market Information Technology 25/50 Index.',\n",
    "    'XLF': 'Financial Select Sector SPDR Fund - An ETF that provides exposure to the financial sector of the S&P 500 Index.',\n",
    "\n",
    "    'FCNTX': 'Fidelity Contrafund - A mutual fund investing in large-cap stocks with long-term growth potential.',\n",
    "    'VFINX': 'Vanguard 500 Index Fund - A mutual fund that tracks the performance of the S&P 500 Index.',\n",
    "    'VGTSX': 'Vanguard Total International Stock Index Fund - A mutual fund that tracks the performance of non-U.S. equity markets.',\n",
    "    'PRGFX': 'T. Rowe Price Growth Stock Fund - A mutual fund focused on growth-oriented stocks.',\n",
    "    'VTSAX': 'Vanguard Total Stock Market Index Fund - A mutual fund that tracks the performance of the entire U.S. stock market.',\n",
    "\n",
    "    'GC=F': 'Gold Futures - A contract for the future delivery of gold.',\n",
    "    'SI=F': 'Silver Futures - A contract for the future delivery of silver.',\n",
    "    'CL=F': 'Crude Oil Futures - A contract for the future delivery of crude oil.',\n",
    "    'NG=F': 'Natural Gas Futures - A contract for the future delivery of natural gas.',\n",
    "\n",
    "    'EURUSD=X': 'Euro to US Dollar - The exchange rate from Euro to US Dollar.',\n",
    "    'JPY=X': 'Japanese Yen to US Dollar - The exchange rate from Japanese Yen to US Dollar.',\n",
    "    'GBPUSD=X': 'British Pound to US Dollar - The exchange rate from British Pound to US Dollar.',\n",
    "    'AUDUSD=X': 'Australian Dollar to US Dollar - The exchange rate from Australian Dollar to US Dollar.',\n",
    "    'USDCAD=X': 'US Dollar to Canadian Dollar - The exchange rate from US Dollar to Canadian Dollar.',\n",
    "\n",
    "    'TLT': 'iShares 20+ Year Treasury Bond ETF - An ETF that tracks the performance of long-term U.S. Treasury bonds.',\n",
    "    'IEF': 'iShares 7-10 Year Treasury Bond ETF - An ETF that tracks the performance of medium-term U.S. Treasury bonds.',\n",
    "    'SHY': 'iShares 1-3 Year Treasury Bond ETF - An ETF that tracks the performance of short-term U.S. Treasury bonds.',\n",
    "    'BND': 'Vanguard Total Bond Market ETF - An ETF that tracks the performance of the U.S. bond market.',\n",
    "    'AGG': 'iShares Core U.S. Aggregate Bond ETF - An ETF that tracks an index of U.S. investment-grade bonds.',\n",
    "\n",
    "    'VNQ': 'Vanguard Real Estate ETF - An ETF that tracks the performance of the MSCI US Investable Market Real Estate 25/50 Index.',\n",
    "    'IYR': 'iShares U.S. Real Estate ETF - An ETF that provides exposure to U.S. real estate stocks and REITs.',\n",
    "    'SCHH': 'Schwab U.S. REIT ETF - An ETF that tracks the performance of the Dow Jones U.S. Select REIT Index.',\n",
    "    'RWO': 'SPDR Dow Jones Global Real Estate ETF - An ETF that provides exposure to global real estate securities.',\n",
    "\n",
    "    'BTC-USD': 'Bitcoin to US Dollar - The exchange rate from Bitcoin to US Dollar.',\n",
    "    'ETH-USD': 'Ethereum to US Dollar - The exchange rate from Ethereum to US Dollar.',\n",
    "    'EURJPY=X': 'Euro to Japanese Yen - The exchange rate from Euro to Japanese Yen.',\n",
    "    'USO': 'United States Oil Fund - An ETF that tracks the performance of crude oil.',\n",
    "    '^GSPC': 'S&P 500 index, representing the market trend'\n",
    "}"
   ]
  },
  {
   "cell_type": "code",
   "execution_count": 8,
   "metadata": {
    "id": "zZQnT_tsAHyY"
   },
   "outputs": [
    {
     "ename": "ModuleNotFoundError",
     "evalue": "No module named 'yfinance'",
     "output_type": "error",
     "traceback": [
      "\u001b[1;31m---------------------------------------------------------------------------\u001b[0m",
      "\u001b[1;31mModuleNotFoundError\u001b[0m                       Traceback (most recent call last)",
      "Input \u001b[1;32mIn [8]\u001b[0m, in \u001b[0;36m<cell line: 1>\u001b[1;34m()\u001b[0m\n\u001b[1;32m----> 1\u001b[0m \u001b[38;5;28;01mimport\u001b[39;00m \u001b[38;5;21;01myfinance\u001b[39;00m \u001b[38;5;28;01mas\u001b[39;00m \u001b[38;5;21;01myf\u001b[39;00m\n\u001b[0;32m      2\u001b[0m \u001b[38;5;28;01mimport\u001b[39;00m \u001b[38;5;21;01mpandas\u001b[39;00m \u001b[38;5;28;01mas\u001b[39;00m \u001b[38;5;21;01mpd\u001b[39;00m\n\u001b[0;32m      3\u001b[0m \u001b[38;5;28;01mimport\u001b[39;00m \u001b[38;5;21;01mdatetime\u001b[39;00m\n",
      "\u001b[1;31mModuleNotFoundError\u001b[0m: No module named 'yfinance'"
     ]
    }
   ],
   "source": [
    "import yfinance as yf\n",
    "import pandas as pd\n",
    "import datetime\n",
    "\n",
    "\n",
    "def download_adjusted_close(symbols):\n",
    "    end_date = datetime.date.today()\n",
    "    start_date = end_date - datetime.timedelta(days=365)\n",
    "\n",
    "    # Initialize an empty DataFrame to hold all adjusted close prices\n",
    "    all_adj_close = pd.DataFrame()\n",
    "    adj_close_list = []\n",
    "\n",
    "\n",
    "    for symbol in symbols:\n",
    "        stock_data = yf.download(symbol, start=start_date, end=end_date)\n",
    "        # Convert the 'Adj Close' Series to a DataFrame with the symbol as its column name\n",
    "        adj_close = pd.DataFrame(stock_data['Adj Close'])\n",
    "        adj_close.columns = [symbol]\n",
    "        adj_close_list.append(adj_close)\n",
    "\n",
    "\n",
    "    all_adj_close = pd.concat(adj_close_list, axis=1)\n",
    "    return all_adj_close\n",
    "\n",
    "# Download data\n",
    "adj_close_prices = download_adjusted_close(popular_assets)\n"
   ]
  },
  {
   "cell_type": "code",
   "execution_count": null,
   "metadata": {
    "id": "qZ3qc5fiJNbI"
   },
   "outputs": [],
   "source": [
    "pd.set_option('display.max_columns', None)\n",
    "adj_close_prices"
   ]
  },
  {
   "cell_type": "markdown",
   "metadata": {
    "id": "c8SJhDoGFRIK"
   },
   "source": [
    "# **Scraping Data from other two websites**"
   ]
  },
  {
   "cell_type": "markdown",
   "metadata": {
    "id": "h2G6pqvw8i8X"
   },
   "source": [
    "**Scraping Daily Treasury Par Real Yield Curve Rates of 2022**"
   ]
  },
  {
   "cell_type": "code",
   "execution_count": null,
   "metadata": {
    "id": "BadA5DWtFBg_"
   },
   "outputs": [],
   "source": [
    "headers = {'user-agent': 'Mozilla/5.0 (Windows NT 10.0; Win64; x64) AppleWebKit/537.36 (KHTML, like Gecko) Chrome/84.0.4147.105 Safari/537.36'}"
   ]
  },
  {
   "cell_type": "code",
   "execution_count": null,
   "metadata": {
    "id": "UEczOt4tFBj1"
   },
   "outputs": [],
   "source": [
    "url = 'https://home.treasury.gov/resource-center/data-chart-center/interest-rates/TextView?type=daily_treasury_yield_curve&field_tdr_date_value=2022'\n",
    "\n",
    "page = requests.get(url,headers=headers)\n",
    "\n",
    "soup = BeautifulSoup(page.text,'html.parser')\n",
    "\n",
    "\n",
    "data = []\n",
    "table = soup.find('table')\n",
    "table_body = table.find('tbody')\n",
    "\n",
    "rows = table.find_all('tr')\n",
    "for row in rows:\n",
    "    cols = row.find_all(['td', 'th'])\n",
    "    cols = [ele.text.strip() for ele in cols]\n",
    "    data.append([ele for ele in cols if ele])\n",
    "\n",
    "daily_treasury_2022 = pd.DataFrame(data)"
   ]
  },
  {
   "cell_type": "markdown",
   "metadata": {
    "id": "qHg1bLaDFc7n"
   },
   "source": [
    "**Scraping Daily Treasury Par Real Yield Curve Rates of 2023**"
   ]
  },
  {
   "cell_type": "code",
   "execution_count": null,
   "metadata": {
    "id": "e0znEG8hFBlx"
   },
   "outputs": [],
   "source": [
    "url = 'https://home.treasury.gov/resource-center/data-chart-center/interest-rates/TextView?type=daily_treasury_yield_curve&field_tdr_date_value=2023'\n",
    "\n",
    "page = requests.get(url,headers=headers)\n",
    "\n",
    "soup = BeautifulSoup(page.text,'html.parser')\n",
    "\n",
    "\n",
    "data = []\n",
    "table = soup.find('table')\n",
    "table_body = table.find('tbody')\n",
    "\n",
    "rows = table.find_all('tr')\n",
    "for row in rows:\n",
    "    cols = row.find_all(['td', 'th'])\n",
    "    cols = [ele.text.strip() for ele in cols]\n",
    "    data.append([ele for ele in cols if ele])\n",
    "\n",
    "daily_treasury_2023 = pd.DataFrame(data)"
   ]
  },
  {
   "cell_type": "code",
   "execution_count": null,
   "metadata": {
    "id": "IzefJO2EoIKK"
   },
   "outputs": [],
   "source": [
    "#daily_treasury_2022\n",
    "daily_treasury_2023"
   ]
  },
  {
   "cell_type": "markdown",
   "metadata": {
    "id": "cKd-vSpYPpUq"
   },
   "source": [
    "**Scraping ESGU**"
   ]
  },
  {
   "cell_type": "code",
   "execution_count": null,
   "metadata": {
    "id": "k7F6nQwqOVIF"
   },
   "outputs": [],
   "source": [
    "from datetime import datetime, timedelta\n",
    "\n",
    "def fetch_esgu_historical_data():\n",
    "\n",
    "  ## Get the date of today and format it\n",
    "  end_date = datetime.now().strftime('%Y-%m-%d')\n",
    "\n",
    "  ## Calaulate the date one year ago and format it\n",
    "  start_date = (datetime.now() - timedelta(days=365)).strftime('%Y-%m-%d')\n",
    "\n",
    "  ## Creat a new URL\n",
    "  url = f\"https://api.nasdaq.com/api/quote/ESGU/historical?assetclass=etf&fromdate={start_date}&limit=600&todate={end_date}\"\n",
    "\n",
    "  headers = {'User-Agent': 'Mozilla/5.0'}\n",
    "\n",
    "  response = requests.get(url, headers=headers)\n",
    "  if response.status_code == 200:\n",
    "    data = response.json()\n",
    "    return data\n",
    "  else:\n",
    "    print(f\"Failed to retrieve data: Status code {response.status_code}\")\n",
    "    return None\n",
    "\n",
    "\n",
    "historical_data_esgu = fetch_esgu_historical_data()"
   ]
  },
  {
   "cell_type": "code",
   "execution_count": null,
   "metadata": {
    "id": "OYNgTTfLPoPD"
   },
   "outputs": [],
   "source": [
    "type(historical_data_esgu)\n",
    "historical_data_esgu"
   ]
  },
  {
   "cell_type": "code",
   "execution_count": null,
   "metadata": {
    "id": "lF5T9P7OQMWE"
   },
   "outputs": [],
   "source": [
    "# Extracting the rows for the DataFrame\n",
    "rows = historical_data_esgu['data']['tradesTable']['rows']\n",
    "\n",
    "# Creating a DataFrame\n",
    "daily_esgu = pd.DataFrame(rows)\n",
    "\n",
    "daily_esgu"
   ]
  },
  {
   "cell_type": "markdown",
   "metadata": {
    "id": "5TCLujYJrE6m"
   },
   "source": [
    "# Data Cleaning"
   ]
  },
  {
   "cell_type": "code",
   "execution_count": null,
   "metadata": {
    "id": "-AXijDwxrHco"
   },
   "outputs": [],
   "source": [
    "## Create the treasury dataset match the timeframe\n",
    "df_treasury = daily_treasury_2022.append(daily_treasury_2023,ignore_index = True)\n",
    "df_treasury = df_treasury.iloc[:, list(range(1)) + list(range(-8, 0))]\n",
    "df_treasury.columns = df_treasury.iloc[0]\n",
    "df_treasury.drop(0,inplace = True)\n",
    "df_treasury = df_treasury.loc[229:]\n",
    "df_treasury = df_treasury.set_index(df_treasury.columns[0])\n",
    "df_treasury"
   ]
  },
  {
   "cell_type": "code",
   "execution_count": null,
   "metadata": {
    "id": "QEhb7Lwkrzib"
   },
   "outputs": [],
   "source": [
    "df_treasury.columns.tolist()"
   ]
  },
  {
   "cell_type": "code",
   "execution_count": null,
   "metadata": {
    "id": "hRV85GoHVrev"
   },
   "outputs": [],
   "source": [
    "## Reverse the dataframe\n",
    "df_reversed = daily_esgu.iloc[::-1]\n",
    "df_reversed = df_reversed.reset_index(drop=True)\n",
    "\n",
    "## Create the esgu dataset match the timeframe\n",
    "df_esgu = df_reversed.iloc[:,:2]\n",
    "df_esgu = df_esgu.set_index(df_esgu.columns[0])\n",
    "df_esgu.columns = ['ESGU']\n",
    "df_esgu"
   ]
  },
  {
   "cell_type": "code",
   "execution_count": null,
   "metadata": {
    "id": "BM-6iyJn4t05"
   },
   "outputs": [],
   "source": [
    "## Change the date index to the same format\n",
    "df_esgu.index = pd.to_datetime(df_esgu.index,errors='coerce')\n",
    "df_esgu.index = df_esgu.index.strftime('%Y-%m-%d')\n",
    "\n",
    "df_treasury.index = pd.to_datetime(df_treasury.index,errors='coerce')\n",
    "df_treasury.index = df_treasury.index.strftime('%Y-%m-%d')\n",
    "\n",
    "adj_close_prices.index = pd.to_datetime(adj_close_prices.index,errors='coerce')\n",
    "adj_close_prices.index = adj_close_prices.index.strftime('%Y-%m-%d')"
   ]
  },
  {
   "cell_type": "code",
   "execution_count": null,
   "metadata": {
    "id": "dGh9fLQmtMtP"
   },
   "outputs": [],
   "source": [
    "## Concate the dataframes and clean the missing values\n",
    "df = pd.concat([adj_close_prices,df_treasury,df_esgu],axis=1)\n",
    "with pd.option_context('display.max_rows', None, 'display.max_columns', None):\n",
    "  print(df.isnull().sum())\n",
    "\n"
   ]
  },
  {
   "cell_type": "code",
   "execution_count": null,
   "metadata": {
    "id": "B7HfJ03OzXCx"
   },
   "outputs": [],
   "source": [
    "## Drop the rows with any missing value\n",
    "df.dropna(inplace =True)\n",
    "df"
   ]
  },
  {
   "cell_type": "code",
   "execution_count": null,
   "metadata": {
    "id": "v7Vcbt6r8AW5"
   },
   "outputs": [],
   "source": [
    "with pd.option_context('display.max_rows', None, 'display.max_columns', None):\n",
    "  print(df.isnull().sum())"
   ]
  },
  {
   "cell_type": "code",
   "execution_count": null,
   "metadata": {
    "id": "BJxiazcL18-S"
   },
   "outputs": [],
   "source": [
    "## Create the expected return dataset\n",
    "for col in df.columns:\n",
    "    df[col] = pd.to_numeric(df[col], errors='coerce')\n",
    "\n",
    "return_df = df.pct_change().dropna()\n",
    "return_df"
   ]
  },
  {
   "cell_type": "code",
   "execution_count": null,
   "metadata": {
    "id": "OwJPV7rx_QGt"
   },
   "outputs": [],
   "source": [
    "return_df.dtypes"
   ]
  },
  {
   "cell_type": "markdown",
   "metadata": {
    "id": "6CK36_DjLX7t"
   },
   "source": [
    "# Building the financial model"
   ]
  },
  {
   "cell_type": "code",
   "execution_count": null,
   "metadata": {
    "id": "2SFCCPhzdV5f"
   },
   "outputs": [],
   "source": [
    "def score_to_beta(score):\n",
    "  max_beta = 2.37 ## According to the betas of all the assets\n",
    "  min_beta = 0 ## Theoretical lower bound\n",
    "  score_neutral = 28/47 * 100 ## According to the risk survey benchmark\n",
    "  if score <= score_neutral:\n",
    "    beta = 1 - (score_neutral-score)/score_neutral * 1\n",
    "  else:\n",
    "    beta = 1 + (score-score_neutral)/(100-score_neutral) * (max_beta-1)\n",
    "\n",
    "  return beta"
   ]
  },
  {
   "cell_type": "code",
   "execution_count": null,
   "metadata": {
    "id": "48fqvl27LkMV"
   },
   "outputs": [],
   "source": [
    "import numpy as np\n",
    "from scipy.optimize import minimize\n",
    "\n",
    "def calculate_portfolio_beta(weights, betas):\n",
    "    return np.sum(np.dot(weights.T, betas))\n",
    "\n",
    "# Calculate average daily returns\n",
    "data = return_df.copy()\n",
    "average_returns = data.mean()\n",
    "cov_matrix = data.cov()\n",
    "max_beta_tolerance = score_to_beta(1)\n",
    "\n",
    "\n",
    "\n",
    "# Define the risk-free rate and market return\n",
    "risk_free_rate = df['30 Yr'].mean()*0.01\n",
    "market_return = (df['^GSPC'][-1]-df['^GSPC'][0])/df['^GSPC'][0]\n",
    "\n",
    "\n",
    "# Calculate beta for each asset\n",
    "market_variance = data['^GSPC'].var()\n",
    "betas = data.apply(lambda x: x.cov(data['^GSPC']) / market_variance)\n",
    "\n",
    "# Calculate expected returns using CAPM\n",
    "expected_returns = risk_free_rate + betas * (market_return - risk_free_rate)\n",
    "\n",
    "# Portfolio optimization\n",
    "def objective(weights):\n",
    "    portfolio_return = np.dot(weights, expected_returns)\n",
    "    return -portfolio_return\n",
    "\n",
    "# Constraints: Weights sum to 1\n",
    "constraints = ({'type': 'eq', 'fun': lambda weights: np.sum(weights) - 1})\n",
    "risk_constraints = ({'type': 'ineq', 'fun': lambda weights: max_beta_tolerance - calculate_portfolio_beta(weights, betas)})\n",
    "\n",
    "# Bounds: Each weight is between 0 and 1\n",
    "bounds = tuple((0, 1) for _ in range(len(data.columns)))\n",
    "\n",
    "# Initial guess\n",
    "initial_weights = np.array([1/len(data.columns)] * len(data.columns))\n",
    "\n",
    "# Perform the optimization\n",
    "optimal_weights = minimize(objective, initial_weights, method='SLSQP', bounds=bounds, constraints=[constraints,risk_constraints])\n",
    "\n",
    "# Print the optimal weights for the portfolio\n",
    "print(optimal_weights.x)\n",
    "\n",
    "# Calculate the expected portfolio return\n",
    "portfolio_return = -objective(optimal_weights.x)\n",
    "portfolio_beta = calculate_portfolio_beta(optimal_weights.x,betas)\n",
    "print(f\"Expected Portfolio Return: {portfolio_return}\")\n",
    "print(f\"Expected Portfolio beta: {portfolio_beta}\")"
   ]
  },
  {
   "cell_type": "markdown",
   "metadata": {
    "id": "hhskInBULRhR"
   },
   "source": [
    "# Show descriptions"
   ]
  },
  {
   "cell_type": "code",
   "execution_count": null,
   "metadata": {
    "id": "0zrh-imdLUQ-"
   },
   "outputs": [],
   "source": [
    "sorted_weight_df = pd.DataFrame({\n",
    "    'Asset': return_df.columns,\n",
    "    'Weights': pd.Series(optimal_weights.x)\n",
    "})\n",
    "sorted_weight_df = sorted_weight_df.sort_values(by='Weights',ascending=False)\n",
    "top10_assets = list(sorted_weight_df.Asset[:10])\n",
    "top10_assets\n",
    "\n",
    "def show_description(df):\n",
    "  print(\"The Top 10 assets in our investment portfolio\")\n",
    "  top10_assets = list(df.Asset[:10])\n",
    "  top10_assets\n",
    "  i = 0\n",
    "  for asset in top10_assets:\n",
    "    weight = \"{:.2f}\".format(list(df.Weights)[i] * 100)\n",
    "    description = asset_descriptions.get(asset)\n",
    "    i+=1\n",
    "    print(description+\" ------ \"+ str(weight)+\"%\")\n",
    "\n",
    "show_description(sorted_weight_df)"
   ]
  },
  {
   "cell_type": "markdown",
   "metadata": {
    "id": "L9fp9ZI7nK1q"
   },
   "source": [
    "**Visualize Result**"
   ]
  },
  {
   "cell_type": "code",
   "execution_count": null,
   "metadata": {
    "id": "NQrbcKHUm-bq"
   },
   "outputs": [],
   "source": [
    "import matplotlib.pyplot as plt\n",
    "data_2 = return_df.copy()\n",
    "df_values = data_2.values\n",
    "result_portfolio = []\n",
    "for i in range(len(df_values)):\n",
    "  result_portfolio.append(sum([a * b for a, b in zip(df_values[i], optimal_weights.x)]))\n",
    "\n",
    "cumulative_return = []\n",
    "cumulative_return.append(result_portfolio[0]+1)\n",
    "for i in range(len(result_portfolio)-1):\n",
    "  cumulative_return.append((result_portfolio[i]+1)*(result_portfolio[1+i]+1))"
   ]
  },
  {
   "cell_type": "code",
   "execution_count": null,
   "metadata": {
    "id": "CKqQ9YJCnCXt"
   },
   "outputs": [],
   "source": [
    "row_index = data_2.index\n",
    "data_portfolio_dict = {'Daily Return': result_portfolio, 'Cumulative Return': cumulative_return}\n",
    "data_portfolio = pd.DataFrame(data_portfolio_dict, index=row_index)"
   ]
  },
  {
   "cell_type": "code",
   "execution_count": null,
   "metadata": {
    "id": "lgxExpDbnFxr"
   },
   "outputs": [],
   "source": [
    "data_portfolio.plot(y='Daily Return', kind='line', linestyle='-')\n",
    "plt.xlabel('Date')\n",
    "plt.ylabel('Return')\n",
    "plt.title('Plot of a Daily Return')\n",
    "plt.show()"
   ]
  },
  {
   "cell_type": "code",
   "execution_count": null,
   "metadata": {
    "id": "JkbrWXOSnIvo"
   },
   "outputs": [],
   "source": [
    "data_portfolio.plot(y='Cumulative Return', kind='line', linestyle='-')\n",
    "plt.xlabel('Date')\n",
    "plt.ylabel('Cumulative Return')\n",
    "plt.title('Plot of a Cumulative Return')\n",
    "plt.show()"
   ]
  },
  {
   "cell_type": "markdown",
   "metadata": {
    "id": "V2Aj94UewvL8"
   },
   "source": [
    "**Average Each Asset**"
   ]
  },
  {
   "cell_type": "code",
   "execution_count": null,
   "metadata": {
    "id": "MsxIpsQnvXUJ"
   },
   "outputs": [],
   "source": [
    "data_3 = return_df.copy()\n",
    "df_values_3 = data_3.values\n",
    "average_portfolio = []\n",
    "for i in range(len(df_values_3)):\n",
    "  average_portfolio.append(sum([a * 1/len(df_values_3[0]) for a in df_values_3[i]]))\n",
    "\n",
    "average_cumulative_return = []\n",
    "average_cumulative_return.append(average_portfolio[0]+1)\n",
    "for i in range(len(average_portfolio)-1):\n",
    "  average_cumulative_return.append((average_portfolio[i]+1)*(average_portfolio[1+i]+1))"
   ]
  },
  {
   "cell_type": "code",
   "execution_count": null,
   "metadata": {
    "id": "zjGCMdsIwBXv"
   },
   "outputs": [],
   "source": [
    "row_index_2 = data_3.index\n",
    "data_portfolio_dict_2 = {'Daily Return': average_portfolio, 'Cumulative Return': average_cumulative_return}\n",
    "data_portfolio_2 = pd.DataFrame(data_portfolio_dict_2, index=row_index_2)"
   ]
  },
  {
   "cell_type": "code",
   "execution_count": null,
   "metadata": {
    "id": "ByA54xo-wg05"
   },
   "outputs": [],
   "source": [
    "data_portfolio_2.plot(y='Daily Return', kind='line', linestyle='-')\n",
    "plt.axhline(y=portfolio_return/365, color='red', linestyle='--', label='Straight Line')\n",
    "plt.xlabel('Date')\n",
    "plt.ylabel('Return')\n",
    "plt.title('Plot of a Daily Return, Expected vs Average Out')\n",
    "plt.show()"
   ]
  },
  {
   "cell_type": "code",
   "execution_count": null,
   "metadata": {
    "id": "eq1H3FW3wuEP"
   },
   "outputs": [],
   "source": [
    "data_portfolio_2.plot(y='Cumulative Return', kind='line', linestyle='-')\n",
    "plt.axhline(y=portfolio_return+1, color='red', linestyle='--', label='Straight Line')\n",
    "plt.xlabel('Date')\n",
    "plt.ylabel('Cumulative Return')\n",
    "plt.title('Plot of a Cumulative Return, Expected vs Average Out')\n",
    "plt.show()"
   ]
  },
  {
   "cell_type": "code",
   "execution_count": null,
   "metadata": {},
   "outputs": [],
   "source": [
    "cumulative_average = int(data_portfolio.applymap(lambda x: str(x)[-1]))\n",
    "categories = ['Our Portfolio', 'Average Portfolio']\n",
    "values = [portfolio_return, cumulative_average]\n",
    "\n",
    "plt.bar(categories, values, color=['blue', 'green'])\n",
    "\n",
    "# Adding labels and title\n",
    "plt.xlabel('Categories')\n",
    "plt.ylabel('Values')\n",
    "plt.title('Bar Chart of Portfolios')\n",
    "\n",
    "# Display the bar chart\n",
    "plt.show()"
   ]
  },
  {
   "cell_type": "code",
   "execution_count": null,
   "metadata": {
    "id": "xCOTNHhFMh4z"
   },
   "outputs": [],
   "source": [
    "betas\n",
    "max(betas)"
   ]
  },
  {
   "cell_type": "code",
   "execution_count": null,
   "metadata": {
    "id": "8jnCyveiX5fp"
   },
   "outputs": [],
   "source": [
    "import matplotlib.pyplot as plt\n",
    "def Pie_chart_of_weights():\n",
    "\n",
    "  ## Categorize our assets\n",
    "  def locate_at(a):\n",
    "    return popular_assets.index(a)+1\n",
    "\n",
    "  asset_categories = {\n",
    "    'Company Stock': [popular_assets[i] for i in range(locate_at('AG'))],\n",
    "    'ETF': [popular_assets[i] for i in range(locate_at('AG'), locate_at('XLF'))],\n",
    "    'Index Fund': [popular_assets[i] for i in range(locate_at('XLF'), locate_at('VTSAX'))],\n",
    "    'Futures': [popular_assets[i] for i in range(locate_at('VTSAX'), locate_at('NG=F'))],\n",
    "    'Exchange Rate': [popular_assets[i] for i in range(locate_at('NG=F'), locate_at('USDCAD=X'))] + [popular_assets[popular_assets.index('EURJPY=X')]],\n",
    "    'Bond ETF': [popular_assets[i] for i in range(locate_at('USDCAD=X'), locate_at('AGG'))],\n",
    "    'Real Estate ETF': [popular_assets[i] for i in range(locate_at('AGG'), locate_at('RWO'))],\n",
    "    'Virtual Currency': [popular_assets[i] for i in range(locate_at('BTC-USD'), locate_at('ETH-USD'))],\n",
    "    'Oil Fund': [popular_assets[popular_assets.index('USO')]],\n",
    "    'S&P 500 index': [popular_assets[popular_assets.index('^GSPC')]],\n",
    "    'Treasury Bond': df_treasury.columns.tolist(),\n",
    "    'ESGU':['ESGU']\n",
    "}\n",
    "\n",
    "  asset_weights = dict(zip(df.columns.tolist(), optimal_weights.x))\n",
    "\n",
    "  ## Calculate the weight of each category\n",
    "  def calculate_category_weights(asset_categories, asset_weights):\n",
    "      category_weights = {}\n",
    "      for category, assets in asset_categories.items():\n",
    "          total_weight = sum(asset_weights.get(asset, 0) for asset in assets)\n",
    "          category_weights[category] = total_weight\n",
    "      return category_weights\n",
    "\n",
    "  category_weights = calculate_category_weights(asset_categories, asset_weights)\n",
    "\n",
    "  ## Pie chart\n",
    "  labels = category_weights.keys()\n",
    "  sizes = category_weights.values()\n",
    "\n",
    "  ## Create a new lable that contains the data\n",
    "  labels_with_data = [f'{label}: {size*100:.2f}%' for label, size in zip(labels, sizes)]\n",
    "\n",
    "  ## Generating a list of 12 distinct colors\n",
    "  colors = ['tab:blue', 'tab:orange', 'tab:green', 'tab:red', 'tab:purple',\n",
    "          'tab:brown', 'tab:pink', 'tab:gray', 'tab:olive', 'tab:cyan',\n",
    "          'yellowgreen', 'yellow']\n",
    "\n",
    "\n",
    "  ## Draw the pie chart\n",
    "  plt.figure(figsize=(10, 7))\n",
    "  plt.pie(sizes, colors=colors, startangle=140)\n",
    "  plt.axis('equal')\n",
    "  plt.title('Portfolio Category Weights')\n",
    "\n",
    "  plt.legend(labels_with_data, title=\"Categories\", loc=\"upper right\")\n",
    "\n",
    "  plt.show()\n",
    "\n",
    "\n",
    "\n",
    "Pie_chart_of_weights()"
   ]
  },
  {
   "cell_type": "code",
   "execution_count": null,
   "metadata": {
    "colab": {
     "background_save": true
    },
    "id": "hxELTBCVL7yU"
   },
   "outputs": [],
   "source": [
    "from datetime import date, timedelta\n",
    "import yfinance as yf\n",
    "import pandas as pd\n",
    "\n",
    "def download_user_data(symbol):\n",
    "    end_date = date.today()\n",
    "    start_date = end_date - timedelta(days=days)\n",
    "\n",
    "    # Initialize an empty DataFrame to hold all adjusted close prices\n",
    "    stock_data = yf.download(symbol, start=start_date, end=end_date)\n",
    "\n",
    "    # Convert the 'Adj Close' Series to a DataFrame with the symbol as its column name\n",
    "    adj_close = pd.DataFrame(stock_data['Adj Close'])\n",
    "    adj_close.columns = [symbol]\n",
    "\n",
    "    return adj_close\n",
    "\n",
    "def plot_returns(user_input, df_user, df_user_percent_change):\n",
    "  fig, axes = plt.subplots(nrows=1, ncols=2, figsize=(12, 5))\n",
    "  df_user.plot(ax=axes[0], y='VALUE', linestyle='-', color='b', label='Sample Data')\n",
    "  axes[0].set_title(user_input + ' Data')\n",
    "  axes[0].set_xlabel('Index')\n",
    "  axes[0].set_ylabel('Value')\n",
    "  axes[0].legend()\n",
    "\n",
    "  # Plot for the second DataFrame\n",
    "  df_user_percent_change.plot(ax=axes[1], y='VALUE', linestyle='-', color='b', label='Sample Data')\n",
    "  axes[1].set_title(user_input + ' Return Change Data')\n",
    "  axes[1].set_xlabel('Index')\n",
    "  axes[1].set_ylabel('Value')\n",
    "  axes[1].legend()\n",
    "\n",
    "  # Adjust layout\n",
    "  plt.tight_layout()\n",
    "\n",
    "  # Display the plots\n",
    "  plt.show()"
   ]
  },
  {
   "cell_type": "code",
   "execution_count": null,
   "metadata": {
    "id": "qHeFanKEL-G5"
   },
   "outputs": [],
   "source": [
    "#First prompt the user to enter an input\n",
    "while(True):\n",
    "  user_input = input(\"Enter your stock code, QUIT to exit: \")\n",
    "\n",
    "  if user_input==\"QUIT\":\n",
    "    break;\n",
    "\n",
    "  days = int(input(\"How many days to visualize: \"))\n",
    "\n",
    "  df_user = download_user_data(user_input, days)\n",
    "  df_user.columns = ['VALUE']\n",
    "  df_user.index = pd.to_datetime(df_user.index,errors='coerce')\n",
    "  df_user.index = df_user.index.strftime('%Y-%m-%d')\n",
    "  df_user.dropna(inplace =True)\n",
    "\n",
    "  for col in df_user.columns:\n",
    "      df_user[col] = pd.to_numeric(df_user[col], errors='coerce')\n",
    "\n",
    "  df_user_percent_change = df_user.pct_change().dropna()\n",
    "  df_user_percent_change.columns = ['VALUE']\n",
    "\n",
    "  plot_returns(user_input, df_user, df_user_percent_change)\n",
    "\n",
    "  #df_user.plot(y='VALUE', linestyle='-', color='b', label='Sample Data')\n",
    "  #df_user_percent_change.plot(y='VALUE', linestyle='-', color='b', label='Sample Data')"
   ]
  },
  {
   "cell_type": "code",
   "execution_count": 4,
   "metadata": {},
   "outputs": [
    {
     "data": {
      "text/plain": [
       "3"
      ]
     },
     "execution_count": 4,
     "metadata": {},
     "output_type": "execute_result"
    }
   ],
   "source": [
    "import pandas as pd\n",
    "\n",
    "# Create a DataFrame\n",
    "data = {'A': [1, 2, 3]}\n",
    "df = pd.DataFrame(data)\n",
    "\n",
    "# Retrieve the NumPy array and check the dtype\n",
    "array_values = df.values[-1][0]\n",
    "\n",
    "array_values"
   ]
  },
  {
   "cell_type": "code",
   "execution_count": null,
   "metadata": {},
   "outputs": [],
   "source": []
  }
 ],
 "metadata": {
  "colab": {
   "provenance": []
  },
  "kernelspec": {
   "display_name": "Python 3 (ipykernel)",
   "language": "python",
   "name": "python3"
  },
  "language_info": {
   "codemirror_mode": {
    "name": "ipython",
    "version": 3
   },
   "file_extension": ".py",
   "mimetype": "text/x-python",
   "name": "python",
   "nbconvert_exporter": "python",
   "pygments_lexer": "ipython3",
   "version": "3.9.12"
  }
 },
 "nbformat": 4,
 "nbformat_minor": 1
}
